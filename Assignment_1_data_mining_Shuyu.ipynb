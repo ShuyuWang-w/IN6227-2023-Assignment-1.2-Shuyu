{
 "cells": [
  {
   "cell_type": "code",
   "execution_count": 47,
   "id": "e61d71ff",
   "metadata": {},
   "outputs": [],
   "source": [
    "# basic packages\n",
    "import pandas as pd \n",
    "import matplotlib.pyplot as plt \n",
    "import seaborn as sns\n",
    "import numpy as np \n",
    "import os \n",
    "\n",
    "# packages for models\n",
    "from sklearn.naive_bayes import GaussianNB\n",
    "from sklearn.linear_model import LogisticRegression\n",
    "from sklearn.model_selection import train_test_split \n",
    "from sklearn import metrics\n",
    "from sklearn.metrics import classification_report, confusion_matrix\n",
    "from sklearn.model_selection import cross_validate\n",
    "from sklearn.model_selection import RandomizedSearchCV\n",
    "from sklearn.model_selection import GridSearchCV\n",
    "\n",
    "# packages for evaluation\n",
    "from sklearn.metrics import precision_recall_curve\n",
    "from sklearn.metrics import roc_curve\n",
    "import matplotlib.pyplot as plt\n",
    "from sklearn.metrics import auc\n",
    "from sklearn.ensemble import VotingClassifier\n",
    "from sklearn.model_selection import cross_val_score"
   ]
  },
  {
   "cell_type": "code",
   "execution_count": 2,
   "id": "2a8ace30",
   "metadata": {},
   "outputs": [],
   "source": [
    "# import dataset\n",
    "data_train = pd.read_csv(\"adult_train.csv\")\n",
    "data_test = pd.read_csv(\"adult_test.csv\")"
   ]
  },
  {
   "cell_type": "code",
   "execution_count": 3,
   "id": "89865cfc",
   "metadata": {},
   "outputs": [],
   "source": [
    "# add a row to indicate the names of each column\n",
    "data_train.columns =['Age', 'Workclass', 'Fnlwgt', 'Education', 'Education_Num', 'Marital_Status', 'Occupation', 'Relationship', 'Race', 'Sex', 'Capital_Gain', 'Capital_Loss', 'Hours_Per_Week', 'Native_Country', 'Label']\n",
    "data_test.columns = ['Age', 'Workclass', 'Fnlwgt', 'Education', 'Education_Num', 'Marital_Status', 'Occupation', 'Relationship', 'Race', 'Sex', 'Capital_Gain', 'Capital_Loss', 'Hours_Per_Week', 'Native_Country', 'Label']"
   ]
  },
  {
   "cell_type": "code",
   "execution_count": 4,
   "id": "7f5c17a9",
   "metadata": {},
   "outputs": [],
   "source": [
    "# drop unknown cols and cols with large numbers of variations to reduce tuning time\n",
    "data_train = data_train.drop(['Fnlwgt','Native_Country'], axis = 1)\n",
    "data_test = data_test.drop(['Fnlwgt','Native_Country'], axis = 1)"
   ]
  },
  {
   "cell_type": "code",
   "execution_count": 5,
   "id": "fcad5ce2",
   "metadata": {},
   "outputs": [],
   "source": [
    "# change label to integer type to avoid uncompatible data type during training\n",
    "data_train['Label'] = data_train['Label'].astype('category')\n",
    "data_train['Label'] = data_train['Label'].cat.codes\n",
    "data_test['Label'] = data_test['Label'].astype('category')\n",
    "data_test['Label'] = data_test['Label'].cat.codes\n",
    "label_train = data_train['Label']\n",
    "label_test = data_test['Label']"
   ]
  },
  {
   "cell_type": "code",
   "execution_count": 6,
   "id": "e280ed82",
   "metadata": {},
   "outputs": [],
   "source": [
    "# extract X\n",
    "data_train = data_train.drop('Label', axis = 1)\n",
    "data_test = data_test.drop('Label', axis = 1)"
   ]
  },
  {
   "cell_type": "code",
   "execution_count": 7,
   "id": "67a66cb2",
   "metadata": {},
   "outputs": [],
   "source": [
    "# change categorical variables to numerical for compatibility\n",
    "data_train = pd.get_dummies(data_train, columns=['Workclass', 'Education', 'Marital_Status', 'Occupation', 'Relationship', 'Race', 'Sex'])\n",
    "data_test = pd.get_dummies(data_test, columns=['Workclass', 'Education', 'Marital_Status', 'Occupation', 'Relationship', 'Race', 'Sex'])"
   ]
  },
  {
   "cell_type": "code",
   "execution_count": 8,
   "id": "1a80fcbc",
   "metadata": {},
   "outputs": [],
   "source": [
    "# get the Naive Bayes Classifier Object\n",
    "nb = GaussianNB()"
   ]
  },
  {
   "cell_type": "code",
   "execution_count": 9,
   "id": "f6c84a09",
   "metadata": {},
   "outputs": [
    {
     "data": {
      "text/plain": [
       "{'priors': None, 'var_smoothing': 1e-09}"
      ]
     },
     "execution_count": 9,
     "metadata": {},
     "output_type": "execute_result"
    }
   ],
   "source": [
    "nb.get_params()"
   ]
  },
  {
   "cell_type": "code",
   "execution_count": 10,
   "id": "d834b24c",
   "metadata": {},
   "outputs": [],
   "source": [
    "# list some possible values of var_smoothing\n",
    "var_smoothing = [1e-9,1e-8,1e-7,1e-6,1e-5,1e-4,1e-3,1e-2]"
   ]
  },
  {
   "cell_type": "code",
   "execution_count": 11,
   "id": "54a2df70",
   "metadata": {},
   "outputs": [],
   "source": [
    "# put these values in a parameter grid\n",
    "parameter_grid = {\n",
    "    'var_smoothing': var_smoothing\n",
    "}"
   ]
  },
  {
   "cell_type": "code",
   "execution_count": 12,
   "id": "2fe74e8b",
   "metadata": {},
   "outputs": [],
   "source": [
    "# input grid_search_cv's parameters\n",
    "grid_search_cv = GridSearchCV(\n",
    "    nb, parameter_grid, scoring=\"accuracy\", n_jobs=-1, cv=5\n",
    ")"
   ]
  },
  {
   "cell_type": "code",
   "execution_count": 13,
   "id": "cb4d4c10",
   "metadata": {},
   "outputs": [
    {
     "name": "stdout",
     "output_type": "stream",
     "text": [
      "Wall time: 6.48 s\n"
     ]
    },
    {
     "data": {
      "text/plain": [
       "GridSearchCV(cv=5, estimator=GaussianNB(), n_jobs=-1,\n",
       "             param_grid={'var_smoothing': [1e-09, 1e-08, 1e-07, 1e-06, 1e-05,\n",
       "                                           0.0001, 0.001, 0.01]},\n",
       "             scoring='accuracy')"
      ]
     },
     "execution_count": 13,
     "metadata": {},
     "output_type": "execute_result"
    }
   ],
   "source": [
    "%%time\n",
    "# fit the training data using grid_search_cv to tune the hyperparameter\n",
    "grid_search_cv.fit(data_train, label_train)"
   ]
  },
  {
   "cell_type": "code",
   "execution_count": 14,
   "id": "45304ee9",
   "metadata": {},
   "outputs": [
    {
     "name": "stdout",
     "output_type": "stream",
     "text": [
      "1e-09\n"
     ]
    }
   ],
   "source": [
    "# print the best value for the parameter var_smoothing\n",
    "print(grid_search_cv.best_params_['var_smoothing'])"
   ]
  },
  {
   "cell_type": "code",
   "execution_count": 15,
   "id": "2747e78b",
   "metadata": {},
   "outputs": [],
   "source": [
    "# change the hyperparameter(s) according to the result of grid_search_cv\n",
    "nb = GaussianNB(var_smoothing = 1e-09)"
   ]
  },
  {
   "cell_type": "code",
   "execution_count": 16,
   "id": "fa51e897",
   "metadata": {},
   "outputs": [
    {
     "name": "stdout",
     "output_type": "stream",
     "text": [
      "Wall time: 43.7 ms\n"
     ]
    }
   ],
   "source": [
    "%%time\n",
    "# fit the training dataset\n",
    "nb = nb.fit(data_train, label_train)"
   ]
  },
  {
   "cell_type": "code",
   "execution_count": 17,
   "id": "a0a733e3",
   "metadata": {},
   "outputs": [
    {
     "name": "stdout",
     "output_type": "stream",
     "text": [
      "Wall time: 23.2 ms\n"
     ]
    }
   ],
   "source": [
    "%%time\n",
    "# prediction\n",
    "predicted = nb.predict(data_test)"
   ]
  },
  {
   "cell_type": "code",
   "execution_count": 18,
   "id": "ed8d50d0",
   "metadata": {},
   "outputs": [
    {
     "data": {
      "text/plain": [
       "0.807923832923833"
      ]
     },
     "execution_count": 18,
     "metadata": {},
     "output_type": "execute_result"
    }
   ],
   "source": [
    "# check acc\n",
    "metrics.accuracy_score(label_test, predicted)"
   ]
  },
  {
   "cell_type": "code",
   "execution_count": 19,
   "id": "fbc15df8",
   "metadata": {},
   "outputs": [
    {
     "name": "stdout",
     "output_type": "stream",
     "text": [
      "[[10011  2423]\n",
      " [  704  3142]]\n"
     ]
    }
   ],
   "source": [
    "# check confusion matrix\n",
    "print(confusion_matrix(label_test, predicted))"
   ]
  },
  {
   "cell_type": "code",
   "execution_count": 20,
   "id": "bddee940",
   "metadata": {},
   "outputs": [
    {
     "name": "stdout",
     "output_type": "stream",
     "text": [
      "              precision    recall  f1-score   support\n",
      "\n",
      "           0       0.93      0.81      0.86     12434\n",
      "           1       0.56      0.82      0.67      3846\n",
      "\n",
      "    accuracy                           0.81     16280\n",
      "   macro avg       0.75      0.81      0.77     16280\n",
      "weighted avg       0.85      0.81      0.82     16280\n",
      "\n"
     ]
    }
   ],
   "source": [
    "# check classification report\n",
    "print(classification_report(label_test, predicted))"
   ]
  },
  {
   "cell_type": "code",
   "execution_count": 21,
   "id": "e7f41daa",
   "metadata": {},
   "outputs": [
    {
     "data": {
      "text/plain": [
       "0.8110418851368821"
      ]
     },
     "execution_count": 21,
     "metadata": {},
     "output_type": "execute_result"
    }
   ],
   "source": [
    "# check AUC for ROC curve\n",
    "false_positive_rate, true_positive_rate, threshold = roc_curve(label_test, predicted)\n",
    "auc = auc(false_positive_rate, true_positive_rate)\n",
    "auc"
   ]
  },
  {
   "cell_type": "code",
   "execution_count": 22,
   "id": "164fac35",
   "metadata": {},
   "outputs": [
    {
     "data": {
      "image/png": "[encoded data removed]",
      "text/plain": [
       "<Figure size 432x288 with 1 Axes>"
      ]
     },
     "metadata": {
      "needs_background": "light"
     },
     "output_type": "display_data"
    }
   ],
   "source": [
    "plt.plot(false_positive_rate, true_positive_rate, color='#FFB8D8', label='ROC curve for NB')\n",
    "plt.xlabel('False Positive Rate')\n",
    "plt.ylabel('True Positive Rate')\n",
    "plt.legend()\n",
    "plt.show()"
   ]
  },
  {
   "cell_type": "code",
   "execution_count": 23,
   "id": "eecfbdf5",
   "metadata": {},
   "outputs": [],
   "source": [
    "# compare with logistic regression model\n",
    "# get instance of logistic regression\n",
    "lr = LogisticRegression()"
   ]
  },
  {
   "cell_type": "code",
   "execution_count": 24,
   "id": "88d55f7e",
   "metadata": {},
   "outputs": [
    {
     "data": {
      "text/plain": [
       "{'C': 1.0,\n",
       " 'class_weight': None,\n",
       " 'dual': False,\n",
       " 'fit_intercept': True,\n",
       " 'intercept_scaling': 1,\n",
       " 'l1_ratio': None,\n",
       " 'max_iter': 100,\n",
       " 'multi_class': 'auto',\n",
       " 'n_jobs': None,\n",
       " 'penalty': 'l2',\n",
       " 'random_state': None,\n",
       " 'solver': 'lbfgs',\n",
       " 'tol': 0.0001,\n",
       " 'verbose': 0,\n",
       " 'warm_start': False}"
      ]
     },
     "execution_count": 24,
     "metadata": {},
     "output_type": "execute_result"
    }
   ],
   "source": [
    "lr.get_params()"
   ]
  },
  {
   "cell_type": "code",
   "execution_count": 25,
   "id": "db99a1ca",
   "metadata": {},
   "outputs": [],
   "source": [
    "# list some possible values for the three most important hyperparameters\n",
    "C = [0.001, 0.01, 0.1, 1, 10, 100]\n",
    "solver = ['newton-cg', 'lbfgs', 'liblinear', 'sag', 'saga']\n",
    "penalty = ['l1', 'l2', 'elasticnet']"
   ]
  },
  {
   "cell_type": "code",
   "execution_count": 27,
   "id": "b5d3f862",
   "metadata": {},
   "outputs": [],
   "source": [
    "# put these values in a parameter grid\n",
    "parameter_grid = {\n",
    "    'C': C,\n",
    "    'solver': solver,\n",
    "    'penalty': penalty\n",
    "}"
   ]
  },
  {
   "cell_type": "code",
   "execution_count": 28,
   "id": "f18c469f",
   "metadata": {},
   "outputs": [],
   "source": [
    "# use random_search_cv instead to reduce time since too many combinations\n",
    "# input random_search_cv's parameters\n",
    "random_search_cv = RandomizedSearchCV(\n",
    "    lr, parameter_grid, n_iter=20, scoring=\"accuracy\", n_jobs=-1, cv=5\n",
    ")"
   ]
  },
  {
   "cell_type": "code",
   "execution_count": 29,
   "id": "c3b1049a",
   "metadata": {},
   "outputs": [
    {
     "name": "stderr",
     "output_type": "stream",
     "text": [
      "C:\\Users\\ASUS\\anaconda3\\lib\\site-packages\\sklearn\\model_selection\\_search.py:918: UserWarning: One or more of the test scores are non-finite: [0.7916769  0.85061425 0.78682432        nan        nan        nan\n",
      "        nan 0.84112408        nan        nan 0.85033784 0.7916769\n",
      " 0.7916769         nan        nan 0.78685504 0.85012285 0.84563882\n",
      " 0.78682432        nan]\n",
      "  warnings.warn(\n"
     ]
    },
    {
     "name": "stdout",
     "output_type": "stream",
     "text": [
      "Wall time: 52.9 s\n"
     ]
    },
    {
     "data": {
      "text/plain": [
       "RandomizedSearchCV(cv=5, estimator=LogisticRegression(), n_iter=20, n_jobs=-1,\n",
       "                   param_distributions={'C': [0.001, 0.01, 0.1, 1, 10, 100],\n",
       "                                        'penalty': ['l1', 'l2', 'elasticnet'],\n",
       "                                        'solver': ['newton-cg', 'lbfgs',\n",
       "                                                   'liblinear', 'sag',\n",
       "                                                   'saga']},\n",
       "                   scoring='accuracy')"
      ]
     },
     "execution_count": 29,
     "metadata": {},
     "output_type": "execute_result"
    }
   ],
   "source": [
    "%%time\n",
    "# fit the training data using random_search_cv to tune the hyperparameter\n",
    "random_search_cv.fit(data_train, label_train)"
   ]
  },
  {
   "cell_type": "code",
   "execution_count": 31,
   "id": "8bfc85e2",
   "metadata": {},
   "outputs": [
    {
     "name": "stdout",
     "output_type": "stream",
     "text": [
      "solver: newton-cg\n",
      "penalty: l2\n",
      "C: 1\n"
     ]
    }
   ],
   "source": [
    "# print the best value for the parameter var_smoothing\n",
    "for k, v in random_search_cv.best_params_.items():\n",
    "    print(f'{k}: {v}')"
   ]
  },
  {
   "cell_type": "code",
   "execution_count": 32,
   "id": "32b22f75",
   "metadata": {},
   "outputs": [],
   "source": [
    "# change the hyperparameter(s) according to the result of random_search_cv\n",
    "lr = LogisticRegression(solver = 'newton-cg', penalty = 'l2', C = 1)"
   ]
  },
  {
   "cell_type": "code",
   "execution_count": 33,
   "id": "23465da2",
   "metadata": {},
   "outputs": [
    {
     "name": "stdout",
     "output_type": "stream",
     "text": [
      "Wall time: 9.39 s\n"
     ]
    }
   ],
   "source": [
    "%%time\n",
    "# fit the training dataset\n",
    "lr = lr.fit(data_train, label_train)"
   ]
  },
  {
   "cell_type": "code",
   "execution_count": 34,
   "id": "5ba021c4",
   "metadata": {},
   "outputs": [
    {
     "name": "stdout",
     "output_type": "stream",
     "text": [
      "Wall time: 13.8 ms\n"
     ]
    }
   ],
   "source": [
    "%%time\n",
    "# prediction\n",
    "predicted = lr.predict(data_test)"
   ]
  },
  {
   "cell_type": "code",
   "execution_count": 35,
   "id": "fac9ab7f",
   "metadata": {},
   "outputs": [
    {
     "data": {
      "text/plain": [
       "0.8519041769041769"
      ]
     },
     "execution_count": 35,
     "metadata": {},
     "output_type": "execute_result"
    }
   ],
   "source": [
    "# check acc\n",
    "metrics.accuracy_score(label_test, predicted)"
   ]
  },
  {
   "cell_type": "code",
   "execution_count": 36,
   "id": "22c67535",
   "metadata": {},
   "outputs": [
    {
     "name": "stdout",
     "output_type": "stream",
     "text": [
      "[[11580   854]\n",
      " [ 1557  2289]]\n"
     ]
    }
   ],
   "source": [
    "# check confusion matrix\n",
    "print(confusion_matrix(label_test, predicted))"
   ]
  },
  {
   "cell_type": "code",
   "execution_count": 37,
   "id": "60e26e2e",
   "metadata": {},
   "outputs": [
    {
     "name": "stdout",
     "output_type": "stream",
     "text": [
      "              precision    recall  f1-score   support\n",
      "\n",
      "           0       0.88      0.93      0.91     12434\n",
      "           1       0.73      0.60      0.66      3846\n",
      "\n",
      "    accuracy                           0.85     16280\n",
      "   macro avg       0.80      0.76      0.78     16280\n",
      "weighted avg       0.85      0.85      0.85     16280\n",
      "\n"
     ]
    }
   ],
   "source": [
    "# check classification report\n",
    "print(classification_report(label_test, predicted))"
   ]
  },
  {
   "cell_type": "code",
   "execution_count": 48,
   "id": "e341a63c",
   "metadata": {},
   "outputs": [
    {
     "data": {
      "text/plain": [
       "0.7632405810950148"
      ]
     },
     "execution_count": 48,
     "metadata": {},
     "output_type": "execute_result"
    }
   ],
   "source": [
    "# check AUC for ROC curve\n",
    "false_positive_rate, true_positive_rate, threshold = roc_curve(label_test, predicted)\n",
    "auc = auc(false_positive_rate, true_positive_rate)\n",
    "auc"
   ]
  },
  {
   "cell_type": "code",
   "execution_count": 49,
   "id": "bce7b441",
   "metadata": {},
   "outputs": [
    {
     "data": {
      "image/png": "[encoded data removed]",
      "text/plain": [
       "<Figure size 432x288 with 1 Axes>"
      ]
     },
     "metadata": {
      "needs_background": "light"
     },
     "output_type": "display_data"
    }
   ],
   "source": [
    "plt.plot(false_positive_rate, true_positive_rate, color='#A020F0', label='ROC curve for LR')\n",
    "plt.xlabel('False Positive Rate')\n",
    "plt.ylabel('True Positive Rate')\n",
    "plt.legend()\n",
    "plt.show()"
   ]
  }
 ],
 "metadata": {
  "kernelspec": {
   "display_name": "Python 3",
   "language": "python",
   "name": "python3"
  },
  "language_info": {
   "codemirror_mode": {
    "name": "ipython",
    "version": 3
   },
   "file_extension": ".py",
   "mimetype": "text/x-python",
   "name": "python",
   "nbconvert_exporter": "python",
   "pygments_lexer": "ipython3",
   "version": "3.8.8"
  }
 },
 "nbformat": 4,
 "nbformat_minor": 5
}
